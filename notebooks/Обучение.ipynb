{
  "nbformat": 4,
  "nbformat_minor": 0,
  "metadata": {
    "colab": {
      "provenance": [],
      "toc_visible": true,
      "machine_shape": "hm",
      "gpuType": "A100"
    },
    "kernelspec": {
      "name": "python3",
      "display_name": "Python 3"
    },
    "language_info": {
      "name": "python"
    },
    "accelerator": "GPU"
  },
  "cells": [
    {
      "cell_type": "markdown",
      "source": [
        "В данном ноутбуке будет реализовано три способа action recognition\n",
        "1. Классификация видео используя Video Resnet\n",
        "2. Классификация видео используя Rethinking Spatiotemporal Feature Learning\n",
        "3. Покадровая класссификация изображений\n"
      ],
      "metadata": {
        "id": "mxVTl-yUHKXv"
      }
    },
    {
      "cell_type": "code",
      "source": [
        "!pip install vidaug >> None\n",
        "!pip install av >> None\n",
        "!pip install transformers >> None"
      ],
      "metadata": {
        "id": "fImOHIBFdz0c"
      },
      "execution_count": 1,
      "outputs": []
    },
    {
      "cell_type": "markdown",
      "source": [
        "# Imports"
      ],
      "metadata": {
        "id": "xvKPffvqJNMO"
      }
    },
    {
      "cell_type": "code",
      "execution_count": 1,
      "metadata": {
        "colab": {
          "base_uri": "https://localhost:8080/"
        },
        "id": "28biNjZwb44-",
        "outputId": "1b980c96-f171-4d14-c2d0-faee9f31729a"
      },
      "outputs": [
        {
          "output_type": "stream",
          "name": "stdout",
          "text": [
            "Mounted at /content/drive\n"
          ]
        }
      ],
      "source": [
        "import os\n",
        "import random\n",
        "import time\n",
        "import warnings\n",
        "\n",
        "import pandas as pd\n",
        "import numpy as np\n",
        "import torch\n",
        "import torch.nn as nn\n",
        "import torchvision\n",
        "import torchvision.transforms as transforms\n",
        "import torchvision.models as models\n",
        "import torch.nn.functional as F\n",
        "from torchvision.io import read_video\n",
        "from torch.optim import lr_scheduler\n",
        "from torch.utils.data import Dataset, DataLoader\n",
        "import torch.optim as optim\n",
        "from torchsummary import summary\n",
        "import av\n",
        "\n",
        "from tqdm import tqdm\n",
        "from sklearn.model_selection import train_test_split\n",
        "from sklearn.preprocessing import OrdinalEncoder\n",
        "from sklearn.metrics import f1_score\n",
        "from vidaug import augmentors as va\n",
        "from transformers import AutoProcessor, AutoModel\n",
        "import albumentations as A\n",
        "from albumentations.pytorch.transforms import ToTensorV2\n",
        "\n",
        "warnings.simplefilter(\"ignore\", UserWarning)\n",
        "from google.colab import drive\n",
        "drive.mount('/content/drive')"
      ]
    },
    {
      "cell_type": "markdown",
      "source": [
        "# Load data"
      ],
      "metadata": {
        "id": "rRf-6TbvJQhk"
      }
    },
    {
      "cell_type": "code",
      "source": [
        "video_path = '/content/drive/MyDrive/Colab Notebooks/Курс компьютерное зрение/videos/'\n",
        "data_path = '/content/drive/MyDrive/Colab Notebooks/Курс компьютерное зрение/data/data.csv'"
      ],
      "metadata": {
        "id": "pNzjhKGPoZmr"
      },
      "execution_count": 2,
      "outputs": []
    },
    {
      "cell_type": "code",
      "source": [
        "df = pd.read_csv(data_path)\n",
        "df[:3]"
      ],
      "metadata": {
        "colab": {
          "base_uri": "https://localhost:8080/",
          "height": 140
        },
        "id": "dHgo1VtZcQjw",
        "outputId": "940f5464-16c3-4c16-e5a8-e48bcd04401b"
      },
      "execution_count": 3,
      "outputs": [
        {
          "output_type": "execute_result",
          "data": {
            "text/plain": [
              "                                          name_video        label\n",
              "0  /content/drive/MyDrive/Colab Notebooks/Курс ко...  tap dancing\n",
              "1  /content/drive/MyDrive/Colab Notebooks/Курс ко...  tap dancing\n",
              "2  /content/drive/MyDrive/Colab Notebooks/Курс ко...  tap dancing"
            ],
            "text/html": [
              "\n",
              "  <div id=\"df-f1a191c0-5ff9-40c3-93ca-463ed275f99a\">\n",
              "    <div class=\"colab-df-container\">\n",
              "      <div>\n",
              "<style scoped>\n",
              "    .dataframe tbody tr th:only-of-type {\n",
              "        vertical-align: middle;\n",
              "    }\n",
              "\n",
              "    .dataframe tbody tr th {\n",
              "        vertical-align: top;\n",
              "    }\n",
              "\n",
              "    .dataframe thead th {\n",
              "        text-align: right;\n",
              "    }\n",
              "</style>\n",
              "<table border=\"1\" class=\"dataframe\">\n",
              "  <thead>\n",
              "    <tr style=\"text-align: right;\">\n",
              "      <th></th>\n",
              "      <th>name_video</th>\n",
              "      <th>label</th>\n",
              "    </tr>\n",
              "  </thead>\n",
              "  <tbody>\n",
              "    <tr>\n",
              "      <th>0</th>\n",
              "      <td>/content/drive/MyDrive/Colab Notebooks/Курс ко...</td>\n",
              "      <td>tap dancing</td>\n",
              "    </tr>\n",
              "    <tr>\n",
              "      <th>1</th>\n",
              "      <td>/content/drive/MyDrive/Colab Notebooks/Курс ко...</td>\n",
              "      <td>tap dancing</td>\n",
              "    </tr>\n",
              "    <tr>\n",
              "      <th>2</th>\n",
              "      <td>/content/drive/MyDrive/Colab Notebooks/Курс ко...</td>\n",
              "      <td>tap dancing</td>\n",
              "    </tr>\n",
              "  </tbody>\n",
              "</table>\n",
              "</div>\n",
              "      <button class=\"colab-df-convert\" onclick=\"convertToInteractive('df-f1a191c0-5ff9-40c3-93ca-463ed275f99a')\"\n",
              "              title=\"Convert this dataframe to an interactive table.\"\n",
              "              style=\"display:none;\">\n",
              "        \n",
              "  <svg xmlns=\"http://www.w3.org/2000/svg\" height=\"24px\"viewBox=\"0 0 24 24\"\n",
              "       width=\"24px\">\n",
              "    <path d=\"M0 0h24v24H0V0z\" fill=\"none\"/>\n",
              "    <path d=\"M18.56 5.44l.94 2.06.94-2.06 2.06-.94-2.06-.94-.94-2.06-.94 2.06-2.06.94zm-11 1L8.5 8.5l.94-2.06 2.06-.94-2.06-.94L8.5 2.5l-.94 2.06-2.06.94zm10 10l.94 2.06.94-2.06 2.06-.94-2.06-.94-.94-2.06-.94 2.06-2.06.94z\"/><path d=\"M17.41 7.96l-1.37-1.37c-.4-.4-.92-.59-1.43-.59-.52 0-1.04.2-1.43.59L10.3 9.45l-7.72 7.72c-.78.78-.78 2.05 0 2.83L4 21.41c.39.39.9.59 1.41.59.51 0 1.02-.2 1.41-.59l7.78-7.78 2.81-2.81c.8-.78.8-2.07 0-2.86zM5.41 20L4 18.59l7.72-7.72 1.47 1.35L5.41 20z\"/>\n",
              "  </svg>\n",
              "      </button>\n",
              "      \n",
              "  <style>\n",
              "    .colab-df-container {\n",
              "      display:flex;\n",
              "      flex-wrap:wrap;\n",
              "      gap: 12px;\n",
              "    }\n",
              "\n",
              "    .colab-df-convert {\n",
              "      background-color: #E8F0FE;\n",
              "      border: none;\n",
              "      border-radius: 50%;\n",
              "      cursor: pointer;\n",
              "      display: none;\n",
              "      fill: #1967D2;\n",
              "      height: 32px;\n",
              "      padding: 0 0 0 0;\n",
              "      width: 32px;\n",
              "    }\n",
              "\n",
              "    .colab-df-convert:hover {\n",
              "      background-color: #E2EBFA;\n",
              "      box-shadow: 0px 1px 2px rgba(60, 64, 67, 0.3), 0px 1px 3px 1px rgba(60, 64, 67, 0.15);\n",
              "      fill: #174EA6;\n",
              "    }\n",
              "\n",
              "    [theme=dark] .colab-df-convert {\n",
              "      background-color: #3B4455;\n",
              "      fill: #D2E3FC;\n",
              "    }\n",
              "\n",
              "    [theme=dark] .colab-df-convert:hover {\n",
              "      background-color: #434B5C;\n",
              "      box-shadow: 0px 1px 3px 1px rgba(0, 0, 0, 0.15);\n",
              "      filter: drop-shadow(0px 1px 2px rgba(0, 0, 0, 0.3));\n",
              "      fill: #FFFFFF;\n",
              "    }\n",
              "  </style>\n",
              "\n",
              "      <script>\n",
              "        const buttonEl =\n",
              "          document.querySelector('#df-f1a191c0-5ff9-40c3-93ca-463ed275f99a button.colab-df-convert');\n",
              "        buttonEl.style.display =\n",
              "          google.colab.kernel.accessAllowed ? 'block' : 'none';\n",
              "\n",
              "        async function convertToInteractive(key) {\n",
              "          const element = document.querySelector('#df-f1a191c0-5ff9-40c3-93ca-463ed275f99a');\n",
              "          const dataTable =\n",
              "            await google.colab.kernel.invokeFunction('convertToInteractive',\n",
              "                                                     [key], {});\n",
              "          if (!dataTable) return;\n",
              "\n",
              "          const docLinkHtml = 'Like what you see? Visit the ' +\n",
              "            '<a target=\"_blank\" href=https://colab.research.google.com/notebooks/data_table.ipynb>data table notebook</a>'\n",
              "            + ' to learn more about interactive tables.';\n",
              "          element.innerHTML = '';\n",
              "          dataTable['output_type'] = 'display_data';\n",
              "          await google.colab.output.renderOutput(dataTable, element);\n",
              "          const docLink = document.createElement('div');\n",
              "          docLink.innerHTML = docLinkHtml;\n",
              "          element.appendChild(docLink);\n",
              "        }\n",
              "      </script>\n",
              "    </div>\n",
              "  </div>\n",
              "  "
            ]
          },
          "metadata": {},
          "execution_count": 3
        }
      ]
    },
    {
      "cell_type": "code",
      "source": [
        "# кодируем лейблы\n",
        "encoder = OrdinalEncoder()\n",
        "df['target'] = encoder.fit_transform(np.array(df['label']).reshape(-1, 1))\n",
        "df"
      ],
      "metadata": {
        "colab": {
          "base_uri": "https://localhost:8080/",
          "height": 413
        },
        "id": "yXB9yCI2cixA",
        "outputId": "2e8bd561-8701-4ea8-d2e3-701dd617cbd2"
      },
      "execution_count": 4,
      "outputs": [
        {
          "output_type": "execute_result",
          "data": {
            "text/plain": [
              "                                            name_video          label  target\n",
              "0    /content/drive/MyDrive/Colab Notebooks/Курс ко...    tap dancing    14.0\n",
              "1    /content/drive/MyDrive/Colab Notebooks/Курс ко...    tap dancing    14.0\n",
              "2    /content/drive/MyDrive/Colab Notebooks/Курс ко...    tap dancing    14.0\n",
              "3    /content/drive/MyDrive/Colab Notebooks/Курс ко...    tap dancing    14.0\n",
              "4    /content/drive/MyDrive/Colab Notebooks/Курс ко...    tap dancing    14.0\n",
              "..                                                 ...            ...     ...\n",
              "205  /content/drive/MyDrive/Colab Notebooks/Курс ко...  tango dancing    13.0\n",
              "206  /content/drive/MyDrive/Colab Notebooks/Курс ко...  tango dancing    13.0\n",
              "207  /content/drive/MyDrive/Colab Notebooks/Курс ко...  tango dancing    13.0\n",
              "208  /content/drive/MyDrive/Colab Notebooks/Курс ко...  tango dancing    13.0\n",
              "209  /content/drive/MyDrive/Colab Notebooks/Курс ко...  tango dancing    13.0\n",
              "\n",
              "[210 rows x 3 columns]"
            ],
            "text/html": [
              "\n",
              "  <div id=\"df-1327c44f-4760-4476-bc19-fff1f6ccdd50\">\n",
              "    <div class=\"colab-df-container\">\n",
              "      <div>\n",
              "<style scoped>\n",
              "    .dataframe tbody tr th:only-of-type {\n",
              "        vertical-align: middle;\n",
              "    }\n",
              "\n",
              "    .dataframe tbody tr th {\n",
              "        vertical-align: top;\n",
              "    }\n",
              "\n",
              "    .dataframe thead th {\n",
              "        text-align: right;\n",
              "    }\n",
              "</style>\n",
              "<table border=\"1\" class=\"dataframe\">\n",
              "  <thead>\n",
              "    <tr style=\"text-align: right;\">\n",
              "      <th></th>\n",
              "      <th>name_video</th>\n",
              "      <th>label</th>\n",
              "      <th>target</th>\n",
              "    </tr>\n",
              "  </thead>\n",
              "  <tbody>\n",
              "    <tr>\n",
              "      <th>0</th>\n",
              "      <td>/content/drive/MyDrive/Colab Notebooks/Курс ко...</td>\n",
              "      <td>tap dancing</td>\n",
              "      <td>14.0</td>\n",
              "    </tr>\n",
              "    <tr>\n",
              "      <th>1</th>\n",
              "      <td>/content/drive/MyDrive/Colab Notebooks/Курс ко...</td>\n",
              "      <td>tap dancing</td>\n",
              "      <td>14.0</td>\n",
              "    </tr>\n",
              "    <tr>\n",
              "      <th>2</th>\n",
              "      <td>/content/drive/MyDrive/Colab Notebooks/Курс ко...</td>\n",
              "      <td>tap dancing</td>\n",
              "      <td>14.0</td>\n",
              "    </tr>\n",
              "    <tr>\n",
              "      <th>3</th>\n",
              "      <td>/content/drive/MyDrive/Colab Notebooks/Курс ко...</td>\n",
              "      <td>tap dancing</td>\n",
              "      <td>14.0</td>\n",
              "    </tr>\n",
              "    <tr>\n",
              "      <th>4</th>\n",
              "      <td>/content/drive/MyDrive/Colab Notebooks/Курс ко...</td>\n",
              "      <td>tap dancing</td>\n",
              "      <td>14.0</td>\n",
              "    </tr>\n",
              "    <tr>\n",
              "      <th>...</th>\n",
              "      <td>...</td>\n",
              "      <td>...</td>\n",
              "      <td>...</td>\n",
              "    </tr>\n",
              "    <tr>\n",
              "      <th>205</th>\n",
              "      <td>/content/drive/MyDrive/Colab Notebooks/Курс ко...</td>\n",
              "      <td>tango dancing</td>\n",
              "      <td>13.0</td>\n",
              "    </tr>\n",
              "    <tr>\n",
              "      <th>206</th>\n",
              "      <td>/content/drive/MyDrive/Colab Notebooks/Курс ко...</td>\n",
              "      <td>tango dancing</td>\n",
              "      <td>13.0</td>\n",
              "    </tr>\n",
              "    <tr>\n",
              "      <th>207</th>\n",
              "      <td>/content/drive/MyDrive/Colab Notebooks/Курс ко...</td>\n",
              "      <td>tango dancing</td>\n",
              "      <td>13.0</td>\n",
              "    </tr>\n",
              "    <tr>\n",
              "      <th>208</th>\n",
              "      <td>/content/drive/MyDrive/Colab Notebooks/Курс ко...</td>\n",
              "      <td>tango dancing</td>\n",
              "      <td>13.0</td>\n",
              "    </tr>\n",
              "    <tr>\n",
              "      <th>209</th>\n",
              "      <td>/content/drive/MyDrive/Colab Notebooks/Курс ко...</td>\n",
              "      <td>tango dancing</td>\n",
              "      <td>13.0</td>\n",
              "    </tr>\n",
              "  </tbody>\n",
              "</table>\n",
              "<p>210 rows × 3 columns</p>\n",
              "</div>\n",
              "      <button class=\"colab-df-convert\" onclick=\"convertToInteractive('df-1327c44f-4760-4476-bc19-fff1f6ccdd50')\"\n",
              "              title=\"Convert this dataframe to an interactive table.\"\n",
              "              style=\"display:none;\">\n",
              "        \n",
              "  <svg xmlns=\"http://www.w3.org/2000/svg\" height=\"24px\"viewBox=\"0 0 24 24\"\n",
              "       width=\"24px\">\n",
              "    <path d=\"M0 0h24v24H0V0z\" fill=\"none\"/>\n",
              "    <path d=\"M18.56 5.44l.94 2.06.94-2.06 2.06-.94-2.06-.94-.94-2.06-.94 2.06-2.06.94zm-11 1L8.5 8.5l.94-2.06 2.06-.94-2.06-.94L8.5 2.5l-.94 2.06-2.06.94zm10 10l.94 2.06.94-2.06 2.06-.94-2.06-.94-.94-2.06-.94 2.06-2.06.94z\"/><path d=\"M17.41 7.96l-1.37-1.37c-.4-.4-.92-.59-1.43-.59-.52 0-1.04.2-1.43.59L10.3 9.45l-7.72 7.72c-.78.78-.78 2.05 0 2.83L4 21.41c.39.39.9.59 1.41.59.51 0 1.02-.2 1.41-.59l7.78-7.78 2.81-2.81c.8-.78.8-2.07 0-2.86zM5.41 20L4 18.59l7.72-7.72 1.47 1.35L5.41 20z\"/>\n",
              "  </svg>\n",
              "      </button>\n",
              "      \n",
              "  <style>\n",
              "    .colab-df-container {\n",
              "      display:flex;\n",
              "      flex-wrap:wrap;\n",
              "      gap: 12px;\n",
              "    }\n",
              "\n",
              "    .colab-df-convert {\n",
              "      background-color: #E8F0FE;\n",
              "      border: none;\n",
              "      border-radius: 50%;\n",
              "      cursor: pointer;\n",
              "      display: none;\n",
              "      fill: #1967D2;\n",
              "      height: 32px;\n",
              "      padding: 0 0 0 0;\n",
              "      width: 32px;\n",
              "    }\n",
              "\n",
              "    .colab-df-convert:hover {\n",
              "      background-color: #E2EBFA;\n",
              "      box-shadow: 0px 1px 2px rgba(60, 64, 67, 0.3), 0px 1px 3px 1px rgba(60, 64, 67, 0.15);\n",
              "      fill: #174EA6;\n",
              "    }\n",
              "\n",
              "    [theme=dark] .colab-df-convert {\n",
              "      background-color: #3B4455;\n",
              "      fill: #D2E3FC;\n",
              "    }\n",
              "\n",
              "    [theme=dark] .colab-df-convert:hover {\n",
              "      background-color: #434B5C;\n",
              "      box-shadow: 0px 1px 3px 1px rgba(0, 0, 0, 0.15);\n",
              "      filter: drop-shadow(0px 1px 2px rgba(0, 0, 0, 0.3));\n",
              "      fill: #FFFFFF;\n",
              "    }\n",
              "  </style>\n",
              "\n",
              "      <script>\n",
              "        const buttonEl =\n",
              "          document.querySelector('#df-1327c44f-4760-4476-bc19-fff1f6ccdd50 button.colab-df-convert');\n",
              "        buttonEl.style.display =\n",
              "          google.colab.kernel.accessAllowed ? 'block' : 'none';\n",
              "\n",
              "        async function convertToInteractive(key) {\n",
              "          const element = document.querySelector('#df-1327c44f-4760-4476-bc19-fff1f6ccdd50');\n",
              "          const dataTable =\n",
              "            await google.colab.kernel.invokeFunction('convertToInteractive',\n",
              "                                                     [key], {});\n",
              "          if (!dataTable) return;\n",
              "\n",
              "          const docLinkHtml = 'Like what you see? Visit the ' +\n",
              "            '<a target=\"_blank\" href=https://colab.research.google.com/notebooks/data_table.ipynb>data table notebook</a>'\n",
              "            + ' to learn more about interactive tables.';\n",
              "          element.innerHTML = '';\n",
              "          dataTable['output_type'] = 'display_data';\n",
              "          await google.colab.output.renderOutput(dataTable, element);\n",
              "          const docLink = document.createElement('div');\n",
              "          docLink.innerHTML = docLinkHtml;\n",
              "          element.appendChild(docLink);\n",
              "        }\n",
              "      </script>\n",
              "    </div>\n",
              "  </div>\n",
              "  "
            ]
          },
          "metadata": {},
          "execution_count": 4
        }
      ]
    },
    {
      "cell_type": "code",
      "source": [
        "# константы и настройки\n",
        "device = torch.device('cuda' if torch.cuda.is_available() else 'cpu')\n",
        "RAND = 10\n",
        "num_features = df.target.nunique()\n",
        "input_frame_size = (224, 224)\n",
        "count_frames = 16\n",
        "model_lr = 1e-5\n",
        "epochs = 15\n",
        "test_size = 0.2\n",
        "batch_size = 16"
      ],
      "metadata": {
        "id": "OY3jQYRHeFXC"
      },
      "execution_count": 5,
      "outputs": []
    },
    {
      "cell_type": "code",
      "source": [
        "class OurDataset(Dataset):\n",
        "    def __init__(self, data, is_train = False):\n",
        "        self.df = data\n",
        "        self.path_video = \"..\"\n",
        "        self.is_train = is_train\n",
        "        # установим частоту аугментации видео\n",
        "        freq_aug = lambda aug: va.Sometimes(0.7, aug)\n",
        "        # параметры аугментации\n",
        "        self.aug = va.Sequential([\n",
        "            va.RandomRotate(degrees=(-25, 25)),\n",
        "            freq_aug(va.HorizontalFlip()),\n",
        "            freq_aug(va.Salt()),\n",
        "            freq_aug(va.Pepper()),\n",
        "            freq_aug(va.GaussianBlur(0.2))])\n",
        "\n",
        "    def __len__(self):\n",
        "        return len(self.df)\n",
        "\n",
        "    def __getitem__(self, idx):\n",
        "        row = self.df.loc[idx]\n",
        "        target = row['target']\n",
        "\n",
        "        path = row['name_video']\n",
        "        # считываем видео, делаем преобразования\n",
        "        video, _, _ = read_video(path, pts_unit=\"sec\")\n",
        "\n",
        "        if len(video) > 0:\n",
        "            video = video[:count_frames]\n",
        "            video = video.numpy()\n",
        "\n",
        "            if self.is_train:\n",
        "                video = self.aug(video)\n",
        "\n",
        "            video = torch.Tensor(video)\n",
        "            resize_transform = transforms.Resize(input_frame_size)\n",
        "            video_resized = torch.stack([resize_transform(\n",
        "                frame.permute(2, 0, 1)).permute(1, 2, 0) for frame in video])\n",
        "            video_normalized = video_resized.permute(3, 0, 1, 2)\n",
        "            tensor_3d = video_normalized / 255\n",
        "        else:\n",
        "            tensor_3d = torch.empty(3, 16, input_frame_size)\n",
        "\n",
        "        label = torch.tensor(target).long()\n",
        "        return tensor_3d, label"
      ],
      "metadata": {
        "id": "3_lERgMTexdL"
      },
      "execution_count": 8,
      "outputs": []
    },
    {
      "cell_type": "code",
      "source": [
        "dataset_train = OurDataset(df)\n",
        "dataset_train[0][0].shape"
      ],
      "metadata": {
        "colab": {
          "base_uri": "https://localhost:8080/"
        },
        "id": "ynP8-stRmLLI",
        "outputId": "b3392f67-9ea8-4b2d-931c-698181640348"
      },
      "execution_count": 7,
      "outputs": [
        {
          "output_type": "execute_result",
          "data": {
            "text/plain": [
              "torch.Size([3, 16, 224, 224])"
            ]
          },
          "metadata": {},
          "execution_count": 7
        }
      ]
    },
    {
      "cell_type": "code",
      "source": [
        "# создаем трнировочную и валидационную выборки\n",
        "train, val = train_test_split(df, test_size=test_size, random_state=RAND, stratify=df['target'])\n",
        "train_dataset = OurDataset(train.reset_index(), is_train=True)\n",
        "val_dataset = OurDataset(val.reset_index(), is_train=False)\n",
        "train_loader = DataLoader(train_dataset,\n",
        "                          batch_size=batch_size,\n",
        "                          shuffle=True)\n",
        "valid_loader = DataLoader(val_dataset,\n",
        "                          batch_size=batch_size)"
      ],
      "metadata": {
        "id": "u6sAgj4ipKPz"
      },
      "execution_count": 8,
      "outputs": []
    },
    {
      "cell_type": "markdown",
      "source": [
        "#"
      ],
      "metadata": {
        "id": "MfTBx5zTw7kL"
      }
    },
    {
      "cell_type": "markdown",
      "source": [
        "# VIDEO RESNET\n"
      ],
      "metadata": {
        "id": "5nkpwPZ8xXWA"
      }
    },
    {
      "cell_type": "code",
      "source": [
        "model = models.video.mc3_18(pretrained=True)\n",
        "model.fc = torch.nn.Linear(model.fc.in_features, num_features)\n",
        "model.to(device)\n",
        "device"
      ],
      "metadata": {
        "colab": {
          "base_uri": "https://localhost:8080/"
        },
        "id": "Ed0ooAtY7Zud",
        "outputId": "e6de8561-c81f-4966-9a16-e7f0a5dedcfd"
      },
      "execution_count": 67,
      "outputs": [
        {
          "output_type": "stream",
          "name": "stderr",
          "text": [
            "Downloading: \"https://download.pytorch.org/models/mc3_18-a90a0ba3.pth\" to /root/.cache/torch/hub/checkpoints/mc3_18-a90a0ba3.pth\n",
            "100%|██████████| 44.7M/44.7M [00:00<00:00, 81.6MB/s]\n"
          ]
        },
        {
          "output_type": "execute_result",
          "data": {
            "text/plain": [
              "device(type='cuda')"
            ]
          },
          "metadata": {},
          "execution_count": 67
        }
      ]
    },
    {
      "cell_type": "code",
      "source": [
        "model_optimizer = optim.AdamW(model.parameters(), model_lr)\n",
        "criterion = nn.CrossEntropyLoss()"
      ],
      "metadata": {
        "id": "QGqRLb850PKs"
      },
      "execution_count": 68,
      "outputs": []
    },
    {
      "cell_type": "code",
      "source": [
        "for epoch in range(epochs):\n",
        "\n",
        "    model.train()\n",
        "\n",
        "    train_loss = []\n",
        "    for i, (batch, targets) in enumerate(tqdm(train_loader, desc=f\"Epoch: {epoch}\")):\n",
        "        model_optimizer.zero_grad()\n",
        "        batch = batch.to(device)\n",
        "        targets = targets.to(device)\n",
        "\n",
        "        logits = model.forward(batch)\n",
        "\n",
        "        loss = criterion(logits, targets)\n",
        "        loss.backward()\n",
        "        model_optimizer.step()\n",
        "\n",
        "        train_loss.append(loss.item())\n",
        "\n",
        "    print('Training loss:', np.mean(train_loss))\n",
        "\n",
        "    model.eval()\n",
        "\n",
        "    val_loss = []\n",
        "    val_targets = []\n",
        "    val_preds = []\n",
        "    for i, (batch, targets) in enumerate(tqdm(valid_loader, desc=f\"Epoch: {epoch}\")):\n",
        "        with torch.no_grad():\n",
        "\n",
        "            batch = batch.to(device)\n",
        "            targets = targets.to(device)\n",
        "\n",
        "            logits = model.forward(batch)\n",
        "\n",
        "            loss = criterion(logits, targets)\n",
        "\n",
        "            val_loss.append(loss.item())\n",
        "            val_targets.extend(targets.cpu().numpy())\n",
        "            val_preds.extend(logits.argmax(axis=1).cpu().numpy())\n",
        "\n",
        "    print('Val loss:', np.mean(val_loss))\n",
        "    print('F1:', f1_score(val_targets, val_preds, average='macro'))"
      ],
      "metadata": {
        "colab": {
          "base_uri": "https://localhost:8080/"
        },
        "id": "oTwWhyu90wdQ",
        "outputId": "92b4a030-d572-4af3-a285-430daddf8368"
      },
      "execution_count": 71,
      "outputs": [
        {
          "output_type": "stream",
          "name": "stderr",
          "text": [
            "Epoch: 0: 100%|██████████| 7/7 [01:18<00:00, 11.26s/it]\n"
          ]
        },
        {
          "output_type": "stream",
          "name": "stdout",
          "text": [
            "Training loss: 2.784828083855765\n"
          ]
        },
        {
          "output_type": "stream",
          "name": "stderr",
          "text": [
            "Epoch: 0: 100%|██████████| 2/2 [00:40<00:00, 20.01s/it]\n"
          ]
        },
        {
          "output_type": "stream",
          "name": "stdout",
          "text": [
            "Val loss: 2.860278606414795\n",
            "F1: 0.020634920634920634\n"
          ]
        },
        {
          "output_type": "stream",
          "name": "stderr",
          "text": [
            "Epoch: 1: 100%|██████████| 7/7 [01:18<00:00, 11.14s/it]\n"
          ]
        },
        {
          "output_type": "stream",
          "name": "stdout",
          "text": [
            "Training loss: 2.768728699002947\n"
          ]
        },
        {
          "output_type": "stream",
          "name": "stderr",
          "text": [
            "Epoch: 1: 100%|██████████| 2/2 [00:05<00:00,  2.59s/it]\n"
          ]
        },
        {
          "output_type": "stream",
          "name": "stdout",
          "text": [
            "Val loss: 2.8648756742477417\n",
            "F1: 0.01746031746031746\n"
          ]
        },
        {
          "output_type": "stream",
          "name": "stderr",
          "text": [
            "Epoch: 2: 100%|██████████| 7/7 [01:17<00:00, 11.11s/it]\n"
          ]
        },
        {
          "output_type": "stream",
          "name": "stdout",
          "text": [
            "Training loss: 2.769495419093541\n"
          ]
        },
        {
          "output_type": "stream",
          "name": "stderr",
          "text": [
            "Epoch: 2: 100%|██████████| 2/2 [00:05<00:00,  2.58s/it]\n"
          ]
        },
        {
          "output_type": "stream",
          "name": "stdout",
          "text": [
            "Val loss: 2.9072128534317017\n",
            "F1: 0.026797385620915035\n"
          ]
        },
        {
          "output_type": "stream",
          "name": "stderr",
          "text": [
            "Epoch: 3: 100%|██████████| 7/7 [01:18<00:00, 11.14s/it]\n"
          ]
        },
        {
          "output_type": "stream",
          "name": "stdout",
          "text": [
            "Training loss: 2.7516261509486606\n"
          ]
        },
        {
          "output_type": "stream",
          "name": "stderr",
          "text": [
            "Epoch: 3: 100%|██████████| 2/2 [00:05<00:00,  2.59s/it]\n"
          ]
        },
        {
          "output_type": "stream",
          "name": "stdout",
          "text": [
            "Val loss: 2.922807216644287\n",
            "F1: 0.016666666666666666\n"
          ]
        },
        {
          "output_type": "stream",
          "name": "stderr",
          "text": [
            "Epoch: 4: 100%|██████████| 7/7 [01:17<00:00, 11.09s/it]\n"
          ]
        },
        {
          "output_type": "stream",
          "name": "stdout",
          "text": [
            "Training loss: 2.7850490297589983\n"
          ]
        },
        {
          "output_type": "stream",
          "name": "stderr",
          "text": [
            "Epoch: 4: 100%|██████████| 2/2 [00:05<00:00,  2.57s/it]\n"
          ]
        },
        {
          "output_type": "stream",
          "name": "stdout",
          "text": [
            "Val loss: 2.9169228076934814\n",
            "F1: 0.012121212121212121\n"
          ]
        },
        {
          "output_type": "stream",
          "name": "stderr",
          "text": [
            "Epoch: 5: 100%|██████████| 7/7 [01:18<00:00, 11.15s/it]\n"
          ]
        },
        {
          "output_type": "stream",
          "name": "stdout",
          "text": [
            "Training loss: 2.7339589595794678\n"
          ]
        },
        {
          "output_type": "stream",
          "name": "stderr",
          "text": [
            "Epoch: 5: 100%|██████████| 2/2 [00:05<00:00,  2.59s/it]\n"
          ]
        },
        {
          "output_type": "stream",
          "name": "stdout",
          "text": [
            "Val loss: 2.912896156311035\n",
            "F1: 0.030158730158730163\n"
          ]
        },
        {
          "output_type": "stream",
          "name": "stderr",
          "text": [
            "Epoch: 6: 100%|██████████| 7/7 [01:17<00:00, 11.11s/it]\n"
          ]
        },
        {
          "output_type": "stream",
          "name": "stdout",
          "text": [
            "Training loss: 2.7488478251865933\n"
          ]
        },
        {
          "output_type": "stream",
          "name": "stderr",
          "text": [
            "Epoch: 6: 100%|██████████| 2/2 [00:05<00:00,  2.57s/it]\n"
          ]
        },
        {
          "output_type": "stream",
          "name": "stdout",
          "text": [
            "Val loss: 2.9440261125564575\n",
            "F1: 0.0\n"
          ]
        },
        {
          "output_type": "stream",
          "name": "stderr",
          "text": [
            "Epoch: 7: 100%|██████████| 7/7 [01:17<00:00, 11.08s/it]\n"
          ]
        },
        {
          "output_type": "stream",
          "name": "stdout",
          "text": [
            "Training loss: 2.730625561305455\n"
          ]
        },
        {
          "output_type": "stream",
          "name": "stderr",
          "text": [
            "Epoch: 7: 100%|██████████| 2/2 [00:05<00:00,  2.57s/it]\n"
          ]
        },
        {
          "output_type": "stream",
          "name": "stdout",
          "text": [
            "Val loss: 3.2376564741134644\n",
            "F1: 0.006666666666666667\n"
          ]
        },
        {
          "output_type": "stream",
          "name": "stderr",
          "text": [
            "Epoch: 8: 100%|██████████| 7/7 [01:18<00:00, 11.15s/it]\n"
          ]
        },
        {
          "output_type": "stream",
          "name": "stdout",
          "text": [
            "Training loss: 2.7418234007699147\n"
          ]
        },
        {
          "output_type": "stream",
          "name": "stderr",
          "text": [
            "Epoch: 8: 100%|██████████| 2/2 [00:05<00:00,  2.59s/it]\n"
          ]
        },
        {
          "output_type": "stream",
          "name": "stdout",
          "text": [
            "Val loss: 4.0434956550598145\n",
            "F1: 0.025024437927663734\n"
          ]
        },
        {
          "output_type": "stream",
          "name": "stderr",
          "text": [
            "Epoch: 9: 100%|██████████| 7/7 [01:18<00:00, 11.18s/it]\n"
          ]
        },
        {
          "output_type": "stream",
          "name": "stdout",
          "text": [
            "Training loss: 2.7289841856275285\n"
          ]
        },
        {
          "output_type": "stream",
          "name": "stderr",
          "text": [
            "Epoch: 9: 100%|██████████| 2/2 [00:05<00:00,  2.57s/it]\n"
          ]
        },
        {
          "output_type": "stream",
          "name": "stdout",
          "text": [
            "Val loss: 5.294581174850464\n",
            "F1: 0.036799620132953466\n"
          ]
        },
        {
          "output_type": "stream",
          "name": "stderr",
          "text": [
            "Epoch: 10: 100%|██████████| 7/7 [01:17<00:00, 11.14s/it]\n"
          ]
        },
        {
          "output_type": "stream",
          "name": "stdout",
          "text": [
            "Training loss: 2.7282781260354176\n"
          ]
        },
        {
          "output_type": "stream",
          "name": "stderr",
          "text": [
            "Epoch: 10: 100%|██████████| 2/2 [00:05<00:00,  2.58s/it]\n"
          ]
        },
        {
          "output_type": "stream",
          "name": "stdout",
          "text": [
            "Val loss: 6.323991537094116\n",
            "F1: 0.036772486772486776\n"
          ]
        },
        {
          "output_type": "stream",
          "name": "stderr",
          "text": [
            "Epoch: 11: 100%|██████████| 7/7 [01:17<00:00, 11.11s/it]\n"
          ]
        },
        {
          "output_type": "stream",
          "name": "stdout",
          "text": [
            "Training loss: 2.7216268948146274\n"
          ]
        },
        {
          "output_type": "stream",
          "name": "stderr",
          "text": [
            "Epoch: 11: 100%|██████████| 2/2 [00:05<00:00,  2.59s/it]\n"
          ]
        },
        {
          "output_type": "stream",
          "name": "stdout",
          "text": [
            "Val loss: 7.612110137939453\n",
            "F1: 0.03611111111111111\n"
          ]
        },
        {
          "output_type": "stream",
          "name": "stderr",
          "text": [
            "Epoch: 12: 100%|██████████| 7/7 [01:17<00:00, 11.09s/it]\n"
          ]
        },
        {
          "output_type": "stream",
          "name": "stdout",
          "text": [
            "Training loss: 2.738426378795079\n"
          ]
        },
        {
          "output_type": "stream",
          "name": "stderr",
          "text": [
            "Epoch: 12: 100%|██████████| 2/2 [00:05<00:00,  2.57s/it]\n"
          ]
        },
        {
          "output_type": "stream",
          "name": "stdout",
          "text": [
            "Val loss: 8.148505687713623\n",
            "F1: 0.035666666666666666\n"
          ]
        },
        {
          "output_type": "stream",
          "name": "stderr",
          "text": [
            "Epoch: 13: 100%|██████████| 7/7 [01:17<00:00, 11.14s/it]\n"
          ]
        },
        {
          "output_type": "stream",
          "name": "stdout",
          "text": [
            "Training loss: 2.715331826891218\n"
          ]
        },
        {
          "output_type": "stream",
          "name": "stderr",
          "text": [
            "Epoch: 13: 100%|██████████| 2/2 [00:05<00:00,  2.59s/it]\n"
          ]
        },
        {
          "output_type": "stream",
          "name": "stdout",
          "text": [
            "Val loss: 8.144031286239624\n",
            "F1: 0.018611746758199845\n"
          ]
        },
        {
          "output_type": "stream",
          "name": "stderr",
          "text": [
            "Epoch: 14: 100%|██████████| 7/7 [01:18<00:00, 11.16s/it]\n"
          ]
        },
        {
          "output_type": "stream",
          "name": "stdout",
          "text": [
            "Training loss: 2.7338344029017856\n"
          ]
        },
        {
          "output_type": "stream",
          "name": "stderr",
          "text": [
            "Epoch: 14: 100%|██████████| 2/2 [00:05<00:00,  2.59s/it]"
          ]
        },
        {
          "output_type": "stream",
          "name": "stdout",
          "text": [
            "Val loss: 8.207681655883789\n",
            "F1: 0.019001610305958132\n"
          ]
        },
        {
          "output_type": "stream",
          "name": "stderr",
          "text": [
            "\n"
          ]
        }
      ]
    },
    {
      "cell_type": "markdown",
      "source": [
        "# Rethinking Spatiotemporal Feature Learning"
      ],
      "metadata": {
        "id": "tEveSFm8PSky"
      }
    },
    {
      "cell_type": "code",
      "source": [
        "model = models.video.s3d(pretrained=True)\n",
        "# заменяем последний слой для классификации\n",
        "model.classifier =  nn.Sequential(\n",
        "            nn.Dropout(p=0.2),\n",
        "            nn.Conv3d(1024, num_features, kernel_size=1, stride=1, bias=True),\n",
        "        )\n",
        "model.to(device)\n",
        "device"
      ],
      "metadata": {
        "colab": {
          "base_uri": "https://localhost:8080/"
        },
        "id": "8dlD_PrS2TrC",
        "outputId": "eeaff6f3-2503-4830-df30-e3526ad17722"
      },
      "execution_count": 19,
      "outputs": [
        {
          "output_type": "execute_result",
          "data": {
            "text/plain": [
              "device(type='cuda')"
            ]
          },
          "metadata": {},
          "execution_count": 19
        }
      ]
    },
    {
      "cell_type": "code",
      "source": [
        "model_optimizer = optim.AdamW(model.parameters(), model_lr)\n",
        "scheduler = lr_scheduler.StepLR(model_optimizer, step_size=3, gamma=0.8)\n",
        "criterion = nn.CrossEntropyLoss()"
      ],
      "metadata": {
        "id": "F41PtnhwPqhH"
      },
      "execution_count": 10,
      "outputs": []
    },
    {
      "cell_type": "code",
      "source": [
        "for epoch in range(epochs):\n",
        "\n",
        "    model.train()\n",
        "\n",
        "    train_loss = []\n",
        "    for i, (batch, targets) in enumerate(tqdm(train_loader, desc=f\"Epoch: {epoch}\")):\n",
        "        model_optimizer.zero_grad()\n",
        "        batch = batch.to(device)\n",
        "        targets = targets.to(device)\n",
        "\n",
        "\n",
        "        logits = model.forward(batch)\n",
        "\n",
        "        loss = criterion(logits, targets)\n",
        "        loss.backward()\n",
        "        model_optimizer.step()\n",
        "\n",
        "        train_loss.append(loss.item())\n",
        "\n",
        "    print('Training loss:', np.mean(train_loss))\n",
        "\n",
        "    model.eval()\n",
        "\n",
        "    val_loss = []\n",
        "    val_targets = []\n",
        "    val_preds = []\n",
        "    for i, (batch, targets) in enumerate(tqdm(valid_loader, desc=f\"Epoch: {epoch}\")):\n",
        "        with torch.no_grad():\n",
        "\n",
        "            batch = batch.to(device)\n",
        "            targets = targets.to(device)\n",
        "\n",
        "            logits = model.forward(batch)\n",
        "\n",
        "            loss = criterion(logits, targets)\n",
        "\n",
        "            val_loss.append(loss.item())\n",
        "            val_targets.extend(targets.cpu().numpy())\n",
        "            val_preds.extend(logits.argmax(axis=1).cpu().numpy())\n",
        "\n",
        "    print('Val loss:', np.mean(val_loss))\n",
        "    print('F1:', f1_score(val_targets, val_preds, average='macro'))"
      ],
      "metadata": {
        "colab": {
          "base_uri": "https://localhost:8080/"
        },
        "id": "72PaXpWGWaO3",
        "outputId": "ac46db80-5292-4460-a4ae-18141aaa7465"
      },
      "execution_count": 28,
      "outputs": [
        {
          "output_type": "stream",
          "name": "stderr",
          "text": [
            "Epoch: 0: 100%|██████████| 11/11 [02:17<00:00, 12.50s/it]\n"
          ]
        },
        {
          "output_type": "stream",
          "name": "stdout",
          "text": [
            "Training loss: 2.791024598208341\n"
          ]
        },
        {
          "output_type": "stream",
          "name": "stderr",
          "text": [
            "Epoch: 0: 100%|██████████| 3/3 [00:05<00:00,  1.97s/it]\n"
          ]
        },
        {
          "output_type": "stream",
          "name": "stdout",
          "text": [
            "Val loss: 2.7162607510884604\n",
            "F1: 0.062380952380952384\n"
          ]
        },
        {
          "output_type": "stream",
          "name": "stderr",
          "text": [
            "Epoch: 1: 100%|██████████| 11/11 [02:16<00:00, 12.37s/it]\n"
          ]
        },
        {
          "output_type": "stream",
          "name": "stdout",
          "text": [
            "Training loss: 2.7620172934098677\n"
          ]
        },
        {
          "output_type": "stream",
          "name": "stderr",
          "text": [
            "Epoch: 1: 100%|██████████| 3/3 [00:05<00:00,  1.97s/it]\n"
          ]
        },
        {
          "output_type": "stream",
          "name": "stdout",
          "text": [
            "Val loss: 2.7173678080240884\n",
            "F1: 0.07376142376142375\n"
          ]
        },
        {
          "output_type": "stream",
          "name": "stderr",
          "text": [
            "Epoch: 2: 100%|██████████| 11/11 [02:16<00:00, 12.39s/it]\n"
          ]
        },
        {
          "output_type": "stream",
          "name": "stdout",
          "text": [
            "Training loss: 2.756642775102095\n"
          ]
        },
        {
          "output_type": "stream",
          "name": "stderr",
          "text": [
            "Epoch: 2: 100%|██████████| 3/3 [00:05<00:00,  1.91s/it]\n"
          ]
        },
        {
          "output_type": "stream",
          "name": "stdout",
          "text": [
            "Val loss: 2.7185718218485513\n",
            "F1: 0.07528767528767528\n"
          ]
        },
        {
          "output_type": "stream",
          "name": "stderr",
          "text": [
            "Epoch: 3: 100%|██████████| 11/11 [02:17<00:00, 12.47s/it]\n"
          ]
        },
        {
          "output_type": "stream",
          "name": "stdout",
          "text": [
            "Training loss: 2.7439970753409644\n"
          ]
        },
        {
          "output_type": "stream",
          "name": "stderr",
          "text": [
            "Epoch: 3: 100%|██████████| 3/3 [00:05<00:00,  1.99s/it]\n"
          ]
        },
        {
          "output_type": "stream",
          "name": "stdout",
          "text": [
            "Val loss: 2.719702164332072\n",
            "F1: 0.07528767528767528\n"
          ]
        },
        {
          "output_type": "stream",
          "name": "stderr",
          "text": [
            "Epoch: 4: 100%|██████████| 11/11 [02:18<00:00, 12.55s/it]\n"
          ]
        },
        {
          "output_type": "stream",
          "name": "stdout",
          "text": [
            "Training loss: 2.779825362292203\n"
          ]
        },
        {
          "output_type": "stream",
          "name": "stderr",
          "text": [
            "Epoch: 4: 100%|██████████| 3/3 [00:06<00:00,  2.09s/it]\n"
          ]
        },
        {
          "output_type": "stream",
          "name": "stdout",
          "text": [
            "Val loss: 2.7205772399902344\n",
            "F1: 0.07528767528767528\n"
          ]
        },
        {
          "output_type": "stream",
          "name": "stderr",
          "text": [
            "Epoch: 5: 100%|██████████| 11/11 [02:17<00:00, 12.51s/it]\n"
          ]
        },
        {
          "output_type": "stream",
          "name": "stdout",
          "text": [
            "Training loss: 2.7594922239130195\n"
          ]
        },
        {
          "output_type": "stream",
          "name": "stderr",
          "text": [
            "Epoch: 5: 100%|██████████| 3/3 [00:06<00:00,  2.01s/it]\n"
          ]
        },
        {
          "output_type": "stream",
          "name": "stdout",
          "text": [
            "Val loss: 2.7212504545847573\n",
            "F1: 0.07528767528767528\n"
          ]
        },
        {
          "output_type": "stream",
          "name": "stderr",
          "text": [
            "Epoch: 6: 100%|██████████| 11/11 [02:18<00:00, 12.63s/it]\n"
          ]
        },
        {
          "output_type": "stream",
          "name": "stdout",
          "text": [
            "Training loss: 2.80935001373291\n"
          ]
        },
        {
          "output_type": "stream",
          "name": "stderr",
          "text": [
            "Epoch: 6: 100%|██████████| 3/3 [00:06<00:00,  2.17s/it]\n"
          ]
        },
        {
          "output_type": "stream",
          "name": "stdout",
          "text": [
            "Val loss: 2.7218028704325357\n",
            "F1: 0.07528767528767528\n"
          ]
        },
        {
          "output_type": "stream",
          "name": "stderr",
          "text": [
            "Epoch: 7: 100%|██████████| 11/11 [02:19<00:00, 12.69s/it]\n"
          ]
        },
        {
          "output_type": "stream",
          "name": "stdout",
          "text": [
            "Training loss: 2.747543118216775\n"
          ]
        },
        {
          "output_type": "stream",
          "name": "stderr",
          "text": [
            "Epoch: 7: 100%|██████████| 3/3 [00:06<00:00,  2.08s/it]\n"
          ]
        },
        {
          "output_type": "stream",
          "name": "stdout",
          "text": [
            "Val loss: 2.7224015394846597\n",
            "F1: 0.07411884411884412\n"
          ]
        },
        {
          "output_type": "stream",
          "name": "stderr",
          "text": [
            "Epoch: 8: 100%|██████████| 11/11 [02:20<00:00, 12.78s/it]\n"
          ]
        },
        {
          "output_type": "stream",
          "name": "stdout",
          "text": [
            "Training loss: 2.775564822283658\n"
          ]
        },
        {
          "output_type": "stream",
          "name": "stderr",
          "text": [
            "Epoch: 8: 100%|██████████| 3/3 [00:06<00:00,  2.25s/it]\n"
          ]
        },
        {
          "output_type": "stream",
          "name": "stdout",
          "text": [
            "Val loss: 2.7229811350504556\n",
            "F1: 0.07411884411884412\n"
          ]
        },
        {
          "output_type": "stream",
          "name": "stderr",
          "text": [
            "Epoch: 9: 100%|██████████| 11/11 [02:22<00:00, 12.95s/it]\n"
          ]
        },
        {
          "output_type": "stream",
          "name": "stdout",
          "text": [
            "Training loss: 2.7715892141515557\n"
          ]
        },
        {
          "output_type": "stream",
          "name": "stderr",
          "text": [
            "Epoch: 9: 100%|██████████| 3/3 [00:06<00:00,  2.23s/it]\n"
          ]
        },
        {
          "output_type": "stream",
          "name": "stdout",
          "text": [
            "Val loss: 2.7237065633138022\n",
            "F1: 0.07597069597069597\n"
          ]
        },
        {
          "output_type": "stream",
          "name": "stderr",
          "text": [
            "Epoch: 10: 100%|██████████| 11/11 [02:21<00:00, 12.87s/it]\n"
          ]
        },
        {
          "output_type": "stream",
          "name": "stdout",
          "text": [
            "Training loss: 2.744176842949607\n"
          ]
        },
        {
          "output_type": "stream",
          "name": "stderr",
          "text": [
            "Epoch: 10: 100%|██████████| 3/3 [00:06<00:00,  2.19s/it]\n"
          ]
        },
        {
          "output_type": "stream",
          "name": "stdout",
          "text": [
            "Val loss: 2.7243239084879556\n",
            "F1: 0.07597069597069597\n"
          ]
        },
        {
          "output_type": "stream",
          "name": "stderr",
          "text": [
            "Epoch: 11: 100%|██████████| 11/11 [02:23<00:00, 13.00s/it]\n"
          ]
        },
        {
          "output_type": "stream",
          "name": "stdout",
          "text": [
            "Training loss: 2.7776096950877798\n"
          ]
        },
        {
          "output_type": "stream",
          "name": "stderr",
          "text": [
            "Epoch: 11: 100%|██████████| 3/3 [00:06<00:00,  2.30s/it]\n"
          ]
        },
        {
          "output_type": "stream",
          "name": "stdout",
          "text": [
            "Val loss: 2.7249956130981445\n",
            "F1: 0.1093040293040293\n"
          ]
        },
        {
          "output_type": "stream",
          "name": "stderr",
          "text": [
            "Epoch: 12: 100%|██████████| 11/11 [02:22<00:00, 12.95s/it]\n"
          ]
        },
        {
          "output_type": "stream",
          "name": "stdout",
          "text": [
            "Training loss: 2.740901405161077\n"
          ]
        },
        {
          "output_type": "stream",
          "name": "stderr",
          "text": [
            "Epoch: 12: 100%|██████████| 3/3 [00:07<00:00,  2.33s/it]\n"
          ]
        },
        {
          "output_type": "stream",
          "name": "stdout",
          "text": [
            "Val loss: 2.7255640029907227\n",
            "F1: 0.11148148148148147\n"
          ]
        },
        {
          "output_type": "stream",
          "name": "stderr",
          "text": [
            "Epoch: 13: 100%|██████████| 11/11 [02:23<00:00, 13.01s/it]\n"
          ]
        },
        {
          "output_type": "stream",
          "name": "stdout",
          "text": [
            "Training loss: 2.723910613493486\n"
          ]
        },
        {
          "output_type": "stream",
          "name": "stderr",
          "text": [
            "Epoch: 13: 100%|██████████| 3/3 [00:07<00:00,  2.35s/it]\n"
          ]
        },
        {
          "output_type": "stream",
          "name": "stdout",
          "text": [
            "Val loss: 2.7260993321736655\n",
            "F1: 0.11148148148148147\n"
          ]
        },
        {
          "output_type": "stream",
          "name": "stderr",
          "text": [
            "Epoch: 14: 100%|██████████| 11/11 [02:22<00:00, 12.96s/it]\n"
          ]
        },
        {
          "output_type": "stream",
          "name": "stdout",
          "text": [
            "Training loss: 2.782319437373768\n"
          ]
        },
        {
          "output_type": "stream",
          "name": "stderr",
          "text": [
            "Epoch: 14: 100%|██████████| 3/3 [00:06<00:00,  2.32s/it]"
          ]
        },
        {
          "output_type": "stream",
          "name": "stdout",
          "text": [
            "Val loss: 2.7264417012532554\n",
            "F1: 0.11333333333333333\n"
          ]
        },
        {
          "output_type": "stream",
          "name": "stderr",
          "text": [
            "\n"
          ]
        }
      ]
    },
    {
      "cell_type": "markdown",
      "source": [
        "**Видно, что вторая модель показывает результаты получше чем Video Resnet. Общее же низкое качество метрики и обучения в целом вероятно связано с небольшой выборкой видео семплов (300 шт)**"
      ],
      "metadata": {
        "id": "D1hZARR-Jomx"
      }
    },
    {
      "cell_type": "markdown",
      "source": [
        "# Покадровая классификация"
      ],
      "metadata": {
        "id": "Fbf1AoLlMMTq"
      }
    },
    {
      "cell_type": "markdown",
      "source": [
        "Для реализации покадровой классификации будем использовать стандартный подход классификации каждого кадра как отдельного изображения. Для этого необходимо изменить подготовку данных"
      ],
      "metadata": {
        "id": "6vSCoGbwMSAw"
      }
    },
    {
      "cell_type": "code",
      "source": [
        "class FrameDataset(Dataset):\n",
        "    def __init__(self, data, is_train = False):\n",
        "        self.df = data\n",
        "        self.path_video = \"..\"\n",
        "        self.is_train = is_train\n",
        "\n",
        "        # параметры аугментации\n",
        "        if is_train:\n",
        "          self.aug =  A.Compose([\n",
        "              A.Resize(height=input_frame_size[0],\n",
        "                       width=input_frame_size[0],\n",
        "                       always_apply=True),\n",
        "              A.Rotate([-45,45], p=1),\n",
        "              A.RandomRain(p=0.05),\n",
        "              A.HorizontalFlip(p=0.5),\n",
        "              A.GaussianBlur(blur_limit=(3, 5), p=0.02),\n",
        "              A.Normalize(mean=[0.5, 0.5, 0.5], std=[0.5, 0.5, 0.5],),\n",
        "              ToTensorV2(),\n",
        "          ])\n",
        "        else:\n",
        "            self.aug =  A.Compose([\n",
        "                A.Resize(height=input_frame_size[0],\n",
        "                         width=input_frame_size[0],\n",
        "                         always_apply=True),\n",
        "                A.Normalize(mean=[0.5, 0.5, 0.5], std=[0.5, 0.5, 0.5],),\n",
        "                ToTensorV2(),\n",
        "            ])\n",
        "\n",
        "    def __len__(self):\n",
        "        return len(self.df)\n",
        "\n",
        "    def __getitem__(self, idx):\n",
        "        row = self.df.loc[idx]\n",
        "        target = row['target']\n",
        "\n",
        "        path = row['name_video']\n",
        "        # считываем видео, берем случайный кадр и аугментируем\n",
        "        video, _, _ = read_video(path, pts_unit=\"sec\")\n",
        "\n",
        "\n",
        "        frames_count = video.shape[0]\n",
        "        random_frame = video[random.randint(0, frames_count - 1)].numpy()\n",
        "        aug_frame = self.aug(image=random_frame)['image']\n",
        "\n",
        "\n",
        "        label = torch.tensor(target).long()\n",
        "        return aug_frame, label"
      ],
      "metadata": {
        "id": "eZB6ajYbWi5S"
      },
      "execution_count": 30,
      "outputs": []
    },
    {
      "cell_type": "code",
      "source": [
        "dataset_train = FrameDataset(df)\n",
        "dataset_train[0][0].shape"
      ],
      "metadata": {
        "colab": {
          "base_uri": "https://localhost:8080/"
        },
        "id": "1M1wH5RYTMnk",
        "outputId": "dd5d648c-dddb-43d7-81ff-b848bd24f106"
      },
      "execution_count": 31,
      "outputs": [
        {
          "output_type": "execute_result",
          "data": {
            "text/plain": [
              "torch.Size([3, 224, 224])"
            ]
          },
          "metadata": {},
          "execution_count": 31
        }
      ]
    },
    {
      "cell_type": "code",
      "source": [
        "# создаем трнировочную и валидационную выборки\n",
        "train, val = train_test_split(df, test_size=test_size, random_state=RAND, stratify=df['target'])\n",
        "train_dataset = FrameDataset(train.reset_index(), is_train=True)\n",
        "val_dataset = FrameDataset(val.reset_index(), is_train=False)\n",
        "train_loader = DataLoader(train_dataset,\n",
        "                          batch_size=batch_size,\n",
        "                          shuffle=True)\n",
        "valid_loader = DataLoader(val_dataset,\n",
        "                          batch_size=batch_size)"
      ],
      "metadata": {
        "id": "r7cnIpQPTput"
      },
      "execution_count": 32,
      "outputs": []
    },
    {
      "cell_type": "code",
      "source": [
        "# для классификации будем использовать модель efficientnet\n",
        "model = models.efficientnet.efficientnet_v2_l(pretrained=True)\n",
        "model.classifier = nn.Sequential(nn.Dropout(p=0.2, inplace=True),\n",
        "                                nn.Linear(1280, num_features))\n",
        "if torch.cuda.is_available():\n",
        "    model.cuda()"
      ],
      "metadata": {
        "id": "1I2HIKGEVQVC"
      },
      "execution_count": 18,
      "outputs": []
    },
    {
      "cell_type": "code",
      "source": [
        "summary(model, (3, 224, 224))"
      ],
      "metadata": {
        "id": "NIhiZxyjWYZr"
      },
      "execution_count": null,
      "outputs": []
    },
    {
      "cell_type": "code",
      "source": [
        "model_optimizer = optim.AdamW(model.parameters(), model_lr)\n",
        "criterion = nn.CrossEntropyLoss()"
      ],
      "metadata": {
        "id": "hVIDedzIYTB2"
      },
      "execution_count": 20,
      "outputs": []
    },
    {
      "cell_type": "code",
      "source": [
        "for epoch in range(epochs):\n",
        "\n",
        "    model.train()\n",
        "\n",
        "    train_loss = []\n",
        "    for i, (batch, targets) in enumerate(tqdm(train_loader, desc=f\"Epoch: {epoch}\")):\n",
        "        model_optimizer.zero_grad()\n",
        "        batch = batch.to(device)\n",
        "        targets = targets.to(device)\n",
        "\n",
        "\n",
        "        logits = model.forward(batch)\n",
        "\n",
        "        loss = criterion(logits, targets)\n",
        "        loss.backward()\n",
        "        model_optimizer.step()\n",
        "\n",
        "        train_loss.append(loss.item())\n",
        "\n",
        "    print('Training loss:', np.mean(train_loss))\n",
        "\n",
        "    model.eval()\n",
        "\n",
        "    val_loss = []\n",
        "    val_targets = []\n",
        "    val_preds = []\n",
        "    for i, (batch, targets) in enumerate(tqdm(valid_loader, desc=f\"Epoch: {epoch}\")):\n",
        "        with torch.no_grad():\n",
        "\n",
        "            batch = batch.to(device)\n",
        "            targets = targets.to(device)\n",
        "\n",
        "            logits = model.forward(batch)\n",
        "\n",
        "            loss = criterion(logits, targets)\n",
        "\n",
        "            val_loss.append(loss.item())\n",
        "            val_targets.extend(targets.cpu().numpy())\n",
        "            val_preds.extend(logits.argmax(axis=1).cpu().numpy())\n",
        "\n",
        "    print('Val loss:', np.mean(val_loss))\n",
        "    print('F1:', f1_score(val_targets, val_preds, average='macro'))"
      ],
      "metadata": {
        "colab": {
          "base_uri": "https://localhost:8080/"
        },
        "id": "15fefsoiXUfi",
        "outputId": "357b6efe-dc1f-4d8b-dd37-24f8184d74d9"
      },
      "execution_count": 33,
      "outputs": [
        {
          "output_type": "stream",
          "name": "stderr",
          "text": [
            "Epoch: 0: 100%|██████████| 11/11 [00:22<00:00,  2.03s/it]\n"
          ]
        },
        {
          "output_type": "stream",
          "name": "stdout",
          "text": [
            "Training loss: 2.7828515442934902\n"
          ]
        },
        {
          "output_type": "stream",
          "name": "stderr",
          "text": [
            "Epoch: 0: 100%|██████████| 3/3 [00:13<00:00,  4.42s/it]\n"
          ]
        },
        {
          "output_type": "stream",
          "name": "stdout",
          "text": [
            "Val loss: 2.7211809158325195\n",
            "F1: 0.03636363636363636\n"
          ]
        },
        {
          "output_type": "stream",
          "name": "stderr",
          "text": [
            "Epoch: 1: 100%|██████████| 11/11 [00:18<00:00,  1.65s/it]\n"
          ]
        },
        {
          "output_type": "stream",
          "name": "stdout",
          "text": [
            "Training loss: 2.730057217858054\n"
          ]
        },
        {
          "output_type": "stream",
          "name": "stderr",
          "text": [
            "Epoch: 1: 100%|██████████| 3/3 [00:04<00:00,  1.35s/it]\n"
          ]
        },
        {
          "output_type": "stream",
          "name": "stdout",
          "text": [
            "Val loss: 2.720832109451294\n",
            "F1: 0.11587301587301588\n"
          ]
        },
        {
          "output_type": "stream",
          "name": "stderr",
          "text": [
            "Epoch: 2: 100%|██████████| 11/11 [00:18<00:00,  1.64s/it]\n"
          ]
        },
        {
          "output_type": "stream",
          "name": "stdout",
          "text": [
            "Training loss: 2.7214970155195757\n"
          ]
        },
        {
          "output_type": "stream",
          "name": "stderr",
          "text": [
            "Epoch: 2: 100%|██████████| 3/3 [00:04<00:00,  1.34s/it]\n"
          ]
        },
        {
          "output_type": "stream",
          "name": "stdout",
          "text": [
            "Val loss: 2.69453493754069\n",
            "F1: 0.10995670995670996\n"
          ]
        },
        {
          "output_type": "stream",
          "name": "stderr",
          "text": [
            "Epoch: 3: 100%|██████████| 11/11 [00:18<00:00,  1.66s/it]\n"
          ]
        },
        {
          "output_type": "stream",
          "name": "stdout",
          "text": [
            "Training loss: 2.6803492416035044\n"
          ]
        },
        {
          "output_type": "stream",
          "name": "stderr",
          "text": [
            "Epoch: 3: 100%|██████████| 3/3 [00:04<00:00,  1.34s/it]\n"
          ]
        },
        {
          "output_type": "stream",
          "name": "stdout",
          "text": [
            "Val loss: 2.748441457748413\n",
            "F1: 0.08756613756613757\n"
          ]
        },
        {
          "output_type": "stream",
          "name": "stderr",
          "text": [
            "Epoch: 4: 100%|██████████| 11/11 [00:17<00:00,  1.63s/it]\n"
          ]
        },
        {
          "output_type": "stream",
          "name": "stdout",
          "text": [
            "Training loss: 2.6831799420443447\n"
          ]
        },
        {
          "output_type": "stream",
          "name": "stderr",
          "text": [
            "Epoch: 4: 100%|██████████| 3/3 [00:04<00:00,  1.36s/it]\n"
          ]
        },
        {
          "output_type": "stream",
          "name": "stdout",
          "text": [
            "Val loss: 2.6571401755015054\n",
            "F1: 0.07089947089947092\n"
          ]
        },
        {
          "output_type": "stream",
          "name": "stderr",
          "text": [
            "Epoch: 5: 100%|██████████| 11/11 [00:17<00:00,  1.63s/it]\n"
          ]
        },
        {
          "output_type": "stream",
          "name": "stdout",
          "text": [
            "Training loss: 2.63924917307767\n"
          ]
        },
        {
          "output_type": "stream",
          "name": "stderr",
          "text": [
            "Epoch: 5: 100%|██████████| 3/3 [00:04<00:00,  1.36s/it]\n"
          ]
        },
        {
          "output_type": "stream",
          "name": "stdout",
          "text": [
            "Val loss: 2.6902838548024497\n",
            "F1: 0.03148148148148148\n"
          ]
        },
        {
          "output_type": "stream",
          "name": "stderr",
          "text": [
            "Epoch: 6: 100%|██████████| 11/11 [00:18<00:00,  1.66s/it]\n"
          ]
        },
        {
          "output_type": "stream",
          "name": "stdout",
          "text": [
            "Training loss: 2.6495177529074927\n"
          ]
        },
        {
          "output_type": "stream",
          "name": "stderr",
          "text": [
            "Epoch: 6: 100%|██████████| 3/3 [00:04<00:00,  1.35s/it]\n"
          ]
        },
        {
          "output_type": "stream",
          "name": "stdout",
          "text": [
            "Val loss: 2.619455258051554\n",
            "F1: 0.07777777777777777\n"
          ]
        },
        {
          "output_type": "stream",
          "name": "stderr",
          "text": [
            "Epoch: 7: 100%|██████████| 11/11 [00:17<00:00,  1.63s/it]\n"
          ]
        },
        {
          "output_type": "stream",
          "name": "stdout",
          "text": [
            "Training loss: 2.586337588050149\n"
          ]
        },
        {
          "output_type": "stream",
          "name": "stderr",
          "text": [
            "Epoch: 7: 100%|██████████| 3/3 [00:04<00:00,  1.37s/it]\n"
          ]
        },
        {
          "output_type": "stream",
          "name": "stdout",
          "text": [
            "Val loss: 2.6188038984934487\n",
            "F1: 0.0637037037037037\n"
          ]
        },
        {
          "output_type": "stream",
          "name": "stderr",
          "text": [
            "Epoch: 8: 100%|██████████| 11/11 [00:17<00:00,  1.63s/it]\n"
          ]
        },
        {
          "output_type": "stream",
          "name": "stdout",
          "text": [
            "Training loss: 2.5772893645546655\n"
          ]
        },
        {
          "output_type": "stream",
          "name": "stderr",
          "text": [
            "Epoch: 8: 100%|██████████| 3/3 [00:04<00:00,  1.42s/it]\n"
          ]
        },
        {
          "output_type": "stream",
          "name": "stdout",
          "text": [
            "Val loss: 2.6768108208974204\n",
            "F1: 0.0761904761904762\n"
          ]
        },
        {
          "output_type": "stream",
          "name": "stderr",
          "text": [
            "Epoch: 9: 100%|██████████| 11/11 [00:18<00:00,  1.64s/it]\n"
          ]
        },
        {
          "output_type": "stream",
          "name": "stdout",
          "text": [
            "Training loss: 2.5068399906158447\n"
          ]
        },
        {
          "output_type": "stream",
          "name": "stderr",
          "text": [
            "Epoch: 9: 100%|██████████| 3/3 [00:04<00:00,  1.35s/it]\n"
          ]
        },
        {
          "output_type": "stream",
          "name": "stdout",
          "text": [
            "Val loss: 2.8230016231536865\n",
            "F1: 0.0\n"
          ]
        },
        {
          "output_type": "stream",
          "name": "stderr",
          "text": [
            "Epoch: 10: 100%|██████████| 11/11 [00:17<00:00,  1.63s/it]\n"
          ]
        },
        {
          "output_type": "stream",
          "name": "stdout",
          "text": [
            "Training loss: 2.543924396688288\n"
          ]
        },
        {
          "output_type": "stream",
          "name": "stderr",
          "text": [
            "Epoch: 10: 100%|██████████| 3/3 [00:04<00:00,  1.35s/it]\n"
          ]
        },
        {
          "output_type": "stream",
          "name": "stdout",
          "text": [
            "Val loss: 2.615145762761434\n",
            "F1: 0.061904761904761914\n"
          ]
        },
        {
          "output_type": "stream",
          "name": "stderr",
          "text": [
            "Epoch: 11: 100%|██████████| 11/11 [00:18<00:00,  1.65s/it]\n"
          ]
        },
        {
          "output_type": "stream",
          "name": "stdout",
          "text": [
            "Training loss: 2.531542279503562\n"
          ]
        },
        {
          "output_type": "stream",
          "name": "stderr",
          "text": [
            "Epoch: 11: 100%|██████████| 3/3 [00:04<00:00,  1.36s/it]\n"
          ]
        },
        {
          "output_type": "stream",
          "name": "stdout",
          "text": [
            "Val loss: 2.655049959818522\n",
            "F1: 0.04126984126984127\n"
          ]
        },
        {
          "output_type": "stream",
          "name": "stderr",
          "text": [
            "Epoch: 12: 100%|██████████| 11/11 [00:18<00:00,  1.65s/it]\n"
          ]
        },
        {
          "output_type": "stream",
          "name": "stdout",
          "text": [
            "Training loss: 2.4776124520735308\n"
          ]
        },
        {
          "output_type": "stream",
          "name": "stderr",
          "text": [
            "Epoch: 12: 100%|██████████| 3/3 [00:04<00:00,  1.36s/it]\n"
          ]
        },
        {
          "output_type": "stream",
          "name": "stdout",
          "text": [
            "Val loss: 2.681426684061686\n",
            "F1: 0.06166666666666667\n"
          ]
        },
        {
          "output_type": "stream",
          "name": "stderr",
          "text": [
            "Epoch: 13: 100%|██████████| 11/11 [00:18<00:00,  1.64s/it]\n"
          ]
        },
        {
          "output_type": "stream",
          "name": "stdout",
          "text": [
            "Training loss: 2.497923417524858\n"
          ]
        },
        {
          "output_type": "stream",
          "name": "stderr",
          "text": [
            "Epoch: 13: 100%|██████████| 3/3 [00:04<00:00,  1.36s/it]\n"
          ]
        },
        {
          "output_type": "stream",
          "name": "stdout",
          "text": [
            "Val loss: 2.646632194519043\n",
            "F1: 0.05384615384615385\n"
          ]
        },
        {
          "output_type": "stream",
          "name": "stderr",
          "text": [
            "Epoch: 14: 100%|██████████| 11/11 [00:18<00:00,  1.66s/it]\n"
          ]
        },
        {
          "output_type": "stream",
          "name": "stdout",
          "text": [
            "Training loss: 2.4308996200561523\n"
          ]
        },
        {
          "output_type": "stream",
          "name": "stderr",
          "text": [
            "Epoch: 14: 100%|██████████| 3/3 [00:04<00:00,  1.35s/it]"
          ]
        },
        {
          "output_type": "stream",
          "name": "stdout",
          "text": [
            "Val loss: 2.6722238063812256\n",
            "F1: 0.07265031265031266\n"
          ]
        },
        {
          "output_type": "stream",
          "name": "stderr",
          "text": [
            "\n"
          ]
        }
      ]
    },
    {
      "cell_type": "code",
      "source": [],
      "metadata": {
        "id": "tVD58_b_YHMM"
      },
      "execution_count": null,
      "outputs": []
    }
  ]
}